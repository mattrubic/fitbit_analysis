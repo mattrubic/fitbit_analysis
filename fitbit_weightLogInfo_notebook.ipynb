{
 "cells": [
  {
   "cell_type": "code",
   "execution_count": 1,
   "id": "32bbf4e5",
   "metadata": {},
   "outputs": [],
   "source": [
    "import pandas as pd\n",
    "import numpy as np\n",
    "import matplotlib.pyplot as plt\n",
    "import seaborn as sns"
   ]
  },
  {
   "cell_type": "code",
   "execution_count": 2,
   "id": "62942c56",
   "metadata": {},
   "outputs": [
    {
     "name": "stdout",
     "output_type": "stream",
     "text": [
      "           Id                 Date    WeightKg  WeightPounds   Fat        BMI  \\\n",
      "0  1503960366  05-02-2016 23:59:59   52.599998    115.963147  22.0  22.650000   \n",
      "1  1503960366  05-03-2016 23:59:59   52.599998    115.963147   NaN  22.650000   \n",
      "2  1927972279  04-13-2016 01:08:52  133.500000    294.317120   NaN  47.540001   \n",
      "3  2873212765  04-21-2016 23:59:59   56.700001    125.002104   NaN  21.450001   \n",
      "4  2873212765  05-12-2016 23:59:59   57.299999    126.324875   NaN  21.690001   \n",
      "\n",
      "   IsManualReport          LogId  \n",
      "0            True  1462233599000  \n",
      "1            True  1462319999000  \n",
      "2           False  1460509732000  \n",
      "3            True  1461283199000  \n",
      "4            True  1463097599000  \n"
     ]
    }
   ],
   "source": [
    "file_path = 'C:/Users/user/Desktop/Bellabeat_Data/weightLogInfo_reformatted.csv'\n",
    "\n",
    "df = pd.read_csv(file_path)\n",
    "\n",
    "# Display the first few rows of the dataframe\n",
    "print(df.head())"
   ]
  },
  {
   "cell_type": "code",
   "execution_count": 3,
   "id": "0945964c",
   "metadata": {},
   "outputs": [
    {
     "name": "stdout",
     "output_type": "stream",
     "text": [
      "<class 'pandas.core.frame.DataFrame'>\n",
      "RangeIndex: 67 entries, 0 to 66\n",
      "Data columns (total 8 columns):\n",
      " #   Column          Non-Null Count  Dtype  \n",
      "---  ------          --------------  -----  \n",
      " 0   Id              67 non-null     int64  \n",
      " 1   Date            67 non-null     object \n",
      " 2   WeightKg        67 non-null     float64\n",
      " 3   WeightPounds    67 non-null     float64\n",
      " 4   Fat             2 non-null      float64\n",
      " 5   BMI             67 non-null     float64\n",
      " 6   IsManualReport  67 non-null     bool   \n",
      " 7   LogId           67 non-null     int64  \n",
      "dtypes: bool(1), float64(4), int64(2), object(1)\n",
      "memory usage: 3.9+ KB\n",
      "None\n"
     ]
    }
   ],
   "source": [
    "print(df.info())"
   ]
  },
  {
   "cell_type": "code",
   "execution_count": 4,
   "id": "d3957e3b",
   "metadata": {},
   "outputs": [
    {
     "name": "stdout",
     "output_type": "stream",
     "text": [
      "                  Id                 Date    WeightKg  WeightPounds       Fat  \\\n",
      "count   6.700000e+01                   67   67.000000     67.000000   2.00000   \n",
      "unique           NaN                   56         NaN           NaN       NaN   \n",
      "top              NaN  2016-05-02 23:59:59         NaN           NaN       NaN   \n",
      "freq             NaN                    3         NaN           NaN       NaN   \n",
      "first            NaN  2016-04-12 06:47:11         NaN           NaN       NaN   \n",
      "last             NaN  2016-05-12 23:59:59         NaN           NaN       NaN   \n",
      "mean    7.009282e+09                  NaN   72.035821    158.811801  23.50000   \n",
      "std     1.950322e+09                  NaN   13.923206     30.695415   2.12132   \n",
      "min     1.503960e+09                  NaN   52.599998    115.963147  22.00000   \n",
      "25%     6.962181e+09                  NaN   61.400002    135.363832  22.75000   \n",
      "50%     6.962181e+09                  NaN   62.500000    137.788914  23.50000   \n",
      "75%     8.877689e+09                  NaN   85.049999    187.503152  24.25000   \n",
      "max     8.877689e+09                  NaN  133.500000    294.317120  25.00000   \n",
      "\n",
      "              BMI IsManualReport         LogId  \n",
      "count   67.000000             67  6.700000e+01  \n",
      "unique        NaN              2           NaN  \n",
      "top           NaN           True           NaN  \n",
      "freq          NaN             41           NaN  \n",
      "first         NaN            NaN           NaN  \n",
      "last          NaN            NaN           NaN  \n",
      "mean    25.185224            NaN  1.461772e+12  \n",
      "std      3.066963            NaN  7.829948e+08  \n",
      "min     21.450001            NaN  1.460444e+12  \n",
      "25%     23.959999            NaN  1.461079e+12  \n",
      "50%     24.389999            NaN  1.461802e+12  \n",
      "75%     25.559999            NaN  1.462375e+12  \n",
      "max     47.540001            NaN  1.463098e+12  \n"
     ]
    },
    {
     "name": "stderr",
     "output_type": "stream",
     "text": [
      "C:\\Users\\user\\AppData\\Local\\Temp\\ipykernel_34488\\3770515964.py:11: FutureWarning: Treating datetime data as categorical rather than numeric in `.describe` is deprecated and will be removed in a future version of pandas. Specify `datetime_is_numeric=True` to silence this warning and adopt the future behavior now.\n",
      "  summary_statistics = df.describe(include='all')\n"
     ]
    }
   ],
   "source": [
    "# Convert 'Date' to datetime object\n",
    "df['Date'] = pd.to_datetime(df['Date'])\n",
    "\n",
    "# Convert to display the dates in 'm/d/y H:M:S' format\n",
    "df['Date'] = df['Date'].dt.strftime('%m/%d/%Y %H:%M:%S')\n",
    "\n",
    "# Convert 'Date' to datetime object\n",
    "df['Date'] = pd.to_datetime(df['Date'])\n",
    "\n",
    "# Generate summary statistics\n",
    "summary_statistics = df.describe(include='all')\n",
    "\n",
    "# To view the summary statistics\n",
    "print(summary_statistics)"
   ]
  },
  {
   "cell_type": "code",
   "execution_count": 5,
   "id": "cf264f3a",
   "metadata": {},
   "outputs": [],
   "source": [
    "# Sort the DataFrame by 'Id' and then by 'Date', both in ascending order\n",
    "df = df.sort_values(by=['Id', 'Date'])\n",
    "\n",
    "# Reset the index of the sorted DataFrame\n",
    "df = df.reset_index(drop=True)"
   ]
  },
  {
   "cell_type": "code",
   "execution_count": 6,
   "id": "6db4ce6d",
   "metadata": {},
   "outputs": [
    {
     "name": "stdout",
     "output_type": "stream",
     "text": [
      "           Id                Date    WeightKg  WeightPounds   Fat        BMI  \\\n",
      "0  1503960366 2016-05-02 23:59:59   52.599998    115.963147  22.0  22.650000   \n",
      "1  1503960366 2016-05-03 23:59:59   52.599998    115.963147   NaN  22.650000   \n",
      "2  1927972279 2016-04-13 01:08:52  133.500000    294.317120   NaN  47.540001   \n",
      "3  2873212765 2016-04-21 23:59:59   56.700001    125.002104   NaN  21.450001   \n",
      "4  2873212765 2016-05-12 23:59:59   57.299999    126.324875   NaN  21.690001   \n",
      "\n",
      "   IsManualReport          LogId  \n",
      "0            True  1462233599000  \n",
      "1            True  1462319999000  \n",
      "2           False  1460509732000  \n",
      "3            True  1461283199000  \n",
      "4            True  1463097599000  \n"
     ]
    }
   ],
   "source": [
    "print(df.head())"
   ]
  },
  {
   "cell_type": "code",
   "execution_count": 7,
   "id": "f2e21a8a",
   "metadata": {},
   "outputs": [
    {
     "name": "stdout",
     "output_type": "stream",
     "text": [
      "Number of unique IDs: 8\n",
      "Unique IDs:\n",
      "1503960366\n",
      "1927972279\n",
      "2873212765\n",
      "4319703577\n",
      "4558609924\n",
      "5577150313\n",
      "6962181067\n",
      "8877689391\n"
     ]
    }
   ],
   "source": [
    "# Find unique values in the 'Id' column\n",
    "unique_ids = df['Id'].unique()\n",
    "\n",
    "# Count of unique values\n",
    "num_unique_ids = len(unique_ids)\n",
    "\n",
    "# Print the number of unique values\n",
    "print(f\"Number of unique IDs: {num_unique_ids}\")\n",
    "\n",
    "# Print each unique value\n",
    "print(\"Unique IDs:\")\n",
    "for id in unique_ids:\n",
    "    print(id)"
   ]
  },
  {
   "cell_type": "code",
   "execution_count": 8,
   "id": "1a314877",
   "metadata": {},
   "outputs": [
    {
     "name": "stdout",
     "output_type": "stream",
     "text": [
      "Unique IDs and their Counts:\n",
      "Id\n",
      "1503960366     2\n",
      "1927972279     1\n",
      "2873212765     2\n",
      "4319703577     2\n",
      "4558609924     5\n",
      "5577150313     1\n",
      "6962181067    30\n",
      "8877689391    24\n",
      "dtype: int64\n"
     ]
    }
   ],
   "source": [
    "# Group by 'Id' and count the number of rows for each Id\n",
    "id_counts = df.groupby('Id').size()\n",
    "\n",
    "# Print each unique Id and its count\n",
    "print(\"Unique IDs and their Counts:\")\n",
    "print(id_counts)"
   ]
  },
  {
   "cell_type": "code",
   "execution_count": 9,
   "id": "c3866b04",
   "metadata": {},
   "outputs": [
    {
     "name": "stdout",
     "output_type": "stream",
     "text": [
      "Unique Dates and their Counts:\n",
      "date\n",
      "2016-04-12    2\n",
      "2016-04-13    3\n",
      "2016-04-14    2\n",
      "2016-04-15    1\n",
      "2016-04-16    2\n",
      "2016-04-17    3\n",
      "2016-04-18    3\n",
      "2016-04-19    2\n",
      "2016-04-20    2\n",
      "2016-04-21    3\n",
      "2016-04-22    1\n",
      "2016-04-23    2\n",
      "2016-04-24    2\n",
      "2016-04-25    3\n",
      "2016-04-26    1\n",
      "2016-04-27    2\n",
      "2016-04-28    2\n",
      "2016-04-29    2\n",
      "2016-04-30    2\n",
      "2016-05-01    3\n",
      "2016-05-02    3\n",
      "2016-05-03    3\n",
      "2016-05-04    3\n",
      "2016-05-05    1\n",
      "2016-05-06    2\n",
      "2016-05-07    1\n",
      "2016-05-08    2\n",
      "2016-05-09    3\n",
      "2016-05-10    1\n",
      "2016-05-11    2\n",
      "2016-05-12    3\n",
      "dtype: int64\n"
     ]
    }
   ],
   "source": [
    "# Rename the 'Date' column to 'datetime'\n",
    "df.rename(columns={'Date': 'datetime'}, inplace=True)\n",
    "\n",
    "# Extract the date part from the 'datetime' column\n",
    "df['date'] = df['datetime'].dt.date\n",
    "\n",
    "# Group by the 'date' column and count the occurrences\n",
    "date_counts = df.groupby('date').size()\n",
    "\n",
    "# Print each unique date and its count\n",
    "print(\"Unique Dates and their Counts:\")\n",
    "print(date_counts)"
   ]
  },
  {
   "cell_type": "code",
   "execution_count": 10,
   "id": "74c48d02",
   "metadata": {},
   "outputs": [
    {
     "name": "stdout",
     "output_type": "stream",
     "text": [
      "Number of rows where 'IsManualReport' is False: 26\n",
      "Rows where 'IsManualReport' is False:\n",
      "            Id            datetime    WeightKg  WeightPounds  Fat        BMI  \\\n",
      "2   1927972279 2016-04-13 01:08:52  133.500000    294.317120  NaN  47.540001   \n",
      "12  5577150313 2016-04-17 09:17:55   90.699997    199.959265  NaN  28.000000   \n",
      "43  8877689391 2016-04-12 06:47:11   85.800003    189.156628  NaN  25.680000   \n",
      "44  8877689391 2016-04-13 06:55:00   84.900002    187.172464  NaN  25.410000   \n",
      "45  8877689391 2016-04-14 06:48:43   84.500000    186.290612  NaN  25.309999   \n",
      "46  8877689391 2016-04-16 13:39:25   85.500000    188.495234  NaN  25.590000   \n",
      "47  8877689391 2016-04-18 06:51:14   85.800003    189.156628  NaN  25.680000   \n",
      "48  8877689391 2016-04-19 06:39:31   85.300003    188.054316  NaN  25.530001   \n",
      "49  8877689391 2016-04-20 06:44:54   84.900002    187.172464  NaN  25.410000   \n",
      "50  8877689391 2016-04-21 06:50:27   84.500000    186.290612  NaN  25.290001   \n",
      "51  8877689391 2016-04-23 07:22:28   85.500000    188.495234  NaN  25.590000   \n",
      "52  8877689391 2016-04-24 07:38:05   85.500000    188.495234  NaN  25.590000   \n",
      "53  8877689391 2016-04-25 06:40:16   85.400002    188.274775  NaN  25.559999   \n",
      "54  8877689391 2016-04-26 06:50:27   85.099998    187.613382  NaN  25.490000   \n",
      "55  8877689391 2016-04-27 06:51:05   85.400002    188.274775  NaN  25.559999   \n",
      "56  8877689391 2016-04-28 06:50:03   85.099998    187.613382  NaN  25.490000   \n",
      "57  8877689391 2016-04-29 06:49:55   84.900002    187.172464  NaN  25.410000   \n",
      "58  8877689391 2016-04-30 07:49:03   85.500000    188.495234  NaN  25.590000   \n",
      "59  8877689391 2016-05-01 08:47:49   85.300003    188.054316  NaN  25.530001   \n",
      "60  8877689391 2016-05-03 06:49:41   84.900002    187.172464  NaN  25.410000   \n",
      "61  8877689391 2016-05-04 06:48:22   84.400002    186.070153  NaN  25.260000   \n",
      "62  8877689391 2016-05-06 06:43:35   85.000000    187.392923  NaN  25.440001   \n",
      "63  8877689391 2016-05-08 07:35:53   85.400002    188.274775  NaN  25.559999   \n",
      "64  8877689391 2016-05-09 06:39:44   85.500000    188.495234  NaN  25.610001   \n",
      "65  8877689391 2016-05-11 06:51:47   85.400002    188.274775  NaN  25.559999   \n",
      "66  8877689391 2016-05-12 06:42:53   84.000000    185.188300  NaN  25.139999   \n",
      "\n",
      "    IsManualReport          LogId        date  \n",
      "2            False  1460509732000  2016-04-13  \n",
      "12           False  1460884675000  2016-04-17  \n",
      "43           False  1460443631000  2016-04-12  \n",
      "44           False  1460530500000  2016-04-13  \n",
      "45           False  1460616523000  2016-04-14  \n",
      "46           False  1460813965000  2016-04-16  \n",
      "47           False  1460962274000  2016-04-18  \n",
      "48           False  1461047971000  2016-04-19  \n",
      "49           False  1461134694000  2016-04-20  \n",
      "50           False  1461221427000  2016-04-21  \n",
      "51           False  1461396148000  2016-04-23  \n",
      "52           False  1461483485000  2016-04-24  \n",
      "53           False  1461566416000  2016-04-25  \n",
      "54           False  1461653427000  2016-04-26  \n",
      "55           False  1461739865000  2016-04-27  \n",
      "56           False  1461826203000  2016-04-28  \n",
      "57           False  1461912595000  2016-04-29  \n",
      "58           False  1462002543000  2016-04-30  \n",
      "59           False  1462092469000  2016-05-01  \n",
      "60           False  1462258181000  2016-05-03  \n",
      "61           False  1462344502000  2016-05-04  \n",
      "62           False  1462517015000  2016-05-06  \n",
      "63           False  1462692953000  2016-05-08  \n",
      "64           False  1462775984000  2016-05-09  \n",
      "65           False  1462949507000  2016-05-11  \n",
      "66           False  1463035373000  2016-05-12  \n"
     ]
    }
   ],
   "source": [
    "# Filter the DataFrame where 'IsManualReport' is False\n",
    "manual_report_false_df = df[df['IsManualReport'] == False]\n",
    "\n",
    "# Print the number of rows where 'IsManualReport' is False\n",
    "num_rows = len(manual_report_false_df)\n",
    "print(f\"Number of rows where 'IsManualReport' is False: {num_rows}\")\n",
    "\n",
    "# Print all rows where 'IsManualReport' is False\n",
    "print(\"Rows where 'IsManualReport' is False:\")\n",
    "print(manual_report_false_df)"
   ]
  },
  {
   "cell_type": "code",
   "execution_count": 11,
   "id": "deba4e84",
   "metadata": {},
   "outputs": [
    {
     "data": {
      "image/png": "[encoded data removed]",
      "text/plain": [
       "<Figure size 640x480 with 1 Axes>"
      ]
     },
     "metadata": {},
     "output_type": "display_data"
    }
   ],
   "source": [
    "# Group by 'Id' and count the number of weight logs\n",
    "weight_log_counts = df.groupby('Id').size()\n",
    "\n",
    "# Plot\n",
    "weight_log_counts.plot(kind='bar')\n",
    "plt.xlabel('User ID')\n",
    "plt.ylabel('Count of Weight Logs')\n",
    "plt.title('Count of Weight Logs per User')\n",
    "plt.show()"
   ]
  },
  {
   "cell_type": "code",
   "execution_count": null,
   "id": "9b8379ad",
   "metadata": {},
   "outputs": [],
   "source": []
  }
 ],
 "metadata": {
  "kernelspec": {
   "display_name": "Python 3 (ipykernel)",
   "language": "python",
   "name": "python3"
  },
  "language_info": {
   "codemirror_mode": {
    "name": "ipython",
    "version": 3
   },
   "file_extension": ".py",
   "mimetype": "text/x-python",
   "name": "python",
   "nbconvert_exporter": "python",
   "pygments_lexer": "ipython3",
   "version": "3.9.13"
  }
 },
 "nbformat": 4,
 "nbformat_minor": 5
}
